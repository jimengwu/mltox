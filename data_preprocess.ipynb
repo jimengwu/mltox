{
 "cells": [
  {
   "cell_type": "code",
   "execution_count": 1,
   "metadata": {
    "collapsed": false
   },
   "outputs": [],
   "source": [
    "from helper_dataprocessing import *\n",
    "import warnings\n",
    "warnings.filterwarnings('ignore') \n",
    "# https://us02web.zoom.us/j/7410331468?pwd=b21CSWloRURiTWVpQjVGd0V3ZXhGUT09"
   ]
  },
  {
   "cell_type": "code",
   "execution_count": 2,
   "metadata": {
    "collapsed": true
   },
   "outputs": [],
   "source": [
    "DATA_RESULTS_PATH = r\"data/raw/results.txt\"\n",
    "DATA_TEST_PATH = r\"data/raw/tests.txt\"\n",
    "DATA_SPECIES_PATH = \"data/raw/species.txt\"\n",
    "DATA_PROPERTY_PATH = \"data/cas_property_tot_new.csv\"\n",
    "keep_columns = ['obs_duration_mean', 'obs_duration_unit',\n",
    "       'endpoint', 'effect', 'measurement', 'conc1_type', 'conc1_mean',\n",
    "       'conc1_unit', 'test_cas', 'test_location', 'exposure_type',\n",
    "       'control_type', 'media_type', 'application_freq_unit', 'class',\n",
    "       'tax_order', 'family', 'genus', 'species','smiles','pubchem2d', \n",
    "       'melting_point', 'melting_unit', 'water_solubility',\n",
    "       'mol_weight']"
   ]
  },
  {
   "cell_type": "code",
   "execution_count": 3,
   "metadata": {
    "collapsed": false
   },
   "outputs": [
    {
     "name": "stdout",
     "output_type": "stream",
     "text": [
      "tests loaded\n",
      "species loaded\n",
      "results loaded\n"
     ]
    }
   ],
   "source": [
    "tests, species, results = load_raw_data(DATA_TEST_PATH, DATA_RESULTS_PATH, DATA_SPECIES_PATH)\n",
    "cas_property = pd.read_csv(DATA_PROPERTY_PATH).drop(['Unnamed: 0'],axis=1)"
   ]
  },
  {
   "cell_type": "markdown",
   "metadata": {},
   "source": [
    "<font size=5>Simple"
   ]
  },
  {
   "cell_type": "code",
   "execution_count": 7,
   "metadata": {
    "collapsed": false,
    "scrolled": true
   },
   "outputs": [
    {
     "name": "stdout",
     "output_type": "stream",
     "text": [
      "There are 185540 tests.(only LC50|EC50)\n",
      "There are 1072 tests consideing aboutBCM.\n",
      "There are 2079 fish species in total.\n",
      "There are 155208 tests on these fishes.\n",
      "All merged into one dataframe. Size was (91, 272) .\n",
      "The unique chemical number was 47 .\n"
     ]
    }
   ],
   "source": [
    "results_prefilter = prefilter(species, tests, results,endpoint=\"LC50|EC50\",label='simple',effect='BCM')\n",
    "# fish_species ='Rainbow Trout'/ 'Fathead Minnow'\n",
    "results_prefilter.loc[:, 'test_cas'] = results_prefilter.test_cas.apply(to_cas)\n",
    "filtered_results = results_prefilter.merge(cas_property,on='test_cas')"
   ]
  },
  {
   "cell_type": "markdown",
   "metadata": {},
   "source": [
    "<font size=2> Generalize the concentration, observation time and delete the missing data"
   ]
  },
  {
   "cell_type": "code",
   "execution_count": null,
   "metadata": {
    "collapsed": false
   },
   "outputs": [],
   "source": [
    "best_db = select_impute_features(filtered_results,keep_columns)"
   ]
  },
  {
   "cell_type": "markdown",
   "metadata": {},
   "source": [
    "Delete the repeated experiments"
   ]
  },
  {
   "cell_type": "code",
   "execution_count": 29,
   "metadata": {
    "collapsed": false
   },
   "outputs": [],
   "source": [
    "final_db = repeated_experiments(best_db)"
   ]
  },
  {
   "cell_type": "markdown",
   "metadata": {},
   "source": [
    "Add chemical properties"
   ]
  },
  {
   "cell_type": "code",
   "execution_count": null,
   "metadata": {
    "collapsed": false,
    "scrolled": true
   },
   "outputs": [],
   "source": [
    "final = final_db.merge(cas_property, on='test_cas')\n",
    "final = final[~final.smiles.isnull()]\n",
    "final = final[~final.pubchem2d.isnull()]\n",
    "chem_feat = process_chemicals(final)\n",
    "chem_feat.drop(['mol_weight','melting_unit'],axis=1,inplace=True)"
   ]
  },
  {
   "cell_type": "markdown",
   "metadata": {},
   "source": [
    "change concentration from gram to molecular weight"
   ]
  },
  {
   "cell_type": "code",
   "execution_count": 26,
   "metadata": {
    "collapsed": true
   },
   "outputs": [],
   "source": [
    "mol =False\n",
    "if mol == True:\n",
    "    chem_feat['conc1_mean'] = chem_feat['conc1_mean']*chem_feat['mol_weight']"
   ]
  },
  {
   "cell_type": "code",
   "execution_count": 27,
   "metadata": {
    "collapsed": false
   },
   "outputs": [],
   "source": [
    "chem_feat.drop(['melting_unit','mol_weight'],axis =1,inplace=True)"
   ]
  },
  {
   "cell_type": "code",
   "execution_count": 31,
   "metadata": {
    "collapsed": false,
    "scrolled": true
   },
   "outputs": [],
   "source": [
    "null_output_counts(chem_feat)"
   ]
  },
  {
   "cell_type": "code",
   "execution_count": 30,
   "metadata": {
    "collapsed": true
   },
   "outputs": [],
   "source": [
    "chem_feat.to_csv('data/LOEC/loec_processed.csv')"
   ]
  },
  {
   "cell_type": "markdown",
   "metadata": {},
   "source": [
    "<font size=5>Datafusion"
   ]
  },
  {
   "cell_type": "code",
   "execution_count": 7,
   "metadata": {
    "collapsed": false
   },
   "outputs": [
    {
     "name": "stdout",
     "output_type": "stream",
     "text": [
      "There are 426070 tests.(except LC50|EC50)\n",
      "There are 2079 fish species in total.\n",
      "There are 163402 tests on these fishes.\n",
      "All merged into one dataframe. Size was (175414, 272) .\n",
      "The unique chemical number was 4331 .\n"
     ]
    }
   ],
   "source": [
    "results_prefilter = prefilter(species, tests, results,'LC50|EC50',label= 'datafusion', all_property='itself')\n",
    "results_prefilter.loc[:, 'test_cas'] = results_prefilter.test_cas.apply(to_cas)\n",
    "filtered_results = results_prefilter.merge(cas_property,on='test_cas')"
   ]
  },
  {
   "cell_type": "code",
   "execution_count": 8,
   "metadata": {
    "collapsed": true
   },
   "outputs": [
    {
     "data": {
      "text/html": [
       "<div>\n",
       "<style scoped>\n",
       "    .dataframe tbody tr th:only-of-type {\n",
       "        vertical-align: middle;\n",
       "    }\n",
       "\n",
       "    .dataframe tbody tr th {\n",
       "        vertical-align: top;\n",
       "    }\n",
       "\n",
       "    .dataframe thead th {\n",
       "        text-align: right;\n",
       "    }\n",
       "</style>\n",
       "<table border=\"1\" class=\"dataframe\">\n",
       "  <thead>\n",
       "    <tr style=\"text-align: right;\">\n",
       "      <th>endpoint</th>\n",
       "      <th>ATCN</th>\n",
       "      <th>BCF</th>\n",
       "      <th>BCFD</th>\n",
       "      <th>BMC02.5</th>\n",
       "      <th>BMC04</th>\n",
       "      <th>BMC05</th>\n",
       "      <th>BMC06</th>\n",
       "      <th>BMC08</th>\n",
       "      <th>BMC10</th>\n",
       "      <th>BMC11</th>\n",
       "      <th>...</th>\n",
       "      <th>IC01</th>\n",
       "      <th>IC10</th>\n",
       "      <th>IC20</th>\n",
       "      <th>IC25</th>\n",
       "      <th>IC50</th>\n",
       "      <th>IC80</th>\n",
       "      <th>LC50</th>\n",
       "      <th>LOEC</th>\n",
       "      <th>MATC</th>\n",
       "      <th>NOEC</th>\n",
       "    </tr>\n",
       "    <tr>\n",
       "      <th>effect</th>\n",
       "      <th></th>\n",
       "      <th></th>\n",
       "      <th></th>\n",
       "      <th></th>\n",
       "      <th></th>\n",
       "      <th></th>\n",
       "      <th></th>\n",
       "      <th></th>\n",
       "      <th></th>\n",
       "      <th></th>\n",
       "      <th></th>\n",
       "      <th></th>\n",
       "      <th></th>\n",
       "      <th></th>\n",
       "      <th></th>\n",
       "      <th></th>\n",
       "      <th></th>\n",
       "      <th></th>\n",
       "      <th></th>\n",
       "      <th></th>\n",
       "      <th></th>\n",
       "    </tr>\n",
       "  </thead>\n",
       "  <tbody>\n",
       "    <tr>\n",
       "      <th>ACC</th>\n",
       "      <td>0</td>\n",
       "      <td>9144</td>\n",
       "      <td>256</td>\n",
       "      <td>0</td>\n",
       "      <td>0</td>\n",
       "      <td>0</td>\n",
       "      <td>0</td>\n",
       "      <td>0</td>\n",
       "      <td>0</td>\n",
       "      <td>0</td>\n",
       "      <td>...</td>\n",
       "      <td>0</td>\n",
       "      <td>0</td>\n",
       "      <td>0</td>\n",
       "      <td>0</td>\n",
       "      <td>0</td>\n",
       "      <td>0</td>\n",
       "      <td>0</td>\n",
       "      <td>2169</td>\n",
       "      <td>5</td>\n",
       "      <td>1562</td>\n",
       "    </tr>\n",
       "    <tr>\n",
       "      <th>AVO</th>\n",
       "      <td>0</td>\n",
       "      <td>0</td>\n",
       "      <td>0</td>\n",
       "      <td>0</td>\n",
       "      <td>0</td>\n",
       "      <td>0</td>\n",
       "      <td>0</td>\n",
       "      <td>0</td>\n",
       "      <td>0</td>\n",
       "      <td>0</td>\n",
       "      <td>...</td>\n",
       "      <td>0</td>\n",
       "      <td>0</td>\n",
       "      <td>0</td>\n",
       "      <td>0</td>\n",
       "      <td>10</td>\n",
       "      <td>0</td>\n",
       "      <td>0</td>\n",
       "      <td>75</td>\n",
       "      <td>3</td>\n",
       "      <td>104</td>\n",
       "    </tr>\n",
       "    <tr>\n",
       "      <th>BCM</th>\n",
       "      <td>0</td>\n",
       "      <td>0</td>\n",
       "      <td>0</td>\n",
       "      <td>0</td>\n",
       "      <td>0</td>\n",
       "      <td>0</td>\n",
       "      <td>0</td>\n",
       "      <td>0</td>\n",
       "      <td>0</td>\n",
       "      <td>0</td>\n",
       "      <td>...</td>\n",
       "      <td>0</td>\n",
       "      <td>4</td>\n",
       "      <td>39</td>\n",
       "      <td>0</td>\n",
       "      <td>27</td>\n",
       "      <td>0</td>\n",
       "      <td>1</td>\n",
       "      <td>8816</td>\n",
       "      <td>6</td>\n",
       "      <td>10427</td>\n",
       "    </tr>\n",
       "    <tr>\n",
       "      <th>BEH</th>\n",
       "      <td>0</td>\n",
       "      <td>0</td>\n",
       "      <td>0</td>\n",
       "      <td>0</td>\n",
       "      <td>0</td>\n",
       "      <td>0</td>\n",
       "      <td>0</td>\n",
       "      <td>0</td>\n",
       "      <td>1</td>\n",
       "      <td>1</td>\n",
       "      <td>...</td>\n",
       "      <td>0</td>\n",
       "      <td>0</td>\n",
       "      <td>0</td>\n",
       "      <td>0</td>\n",
       "      <td>0</td>\n",
       "      <td>0</td>\n",
       "      <td>1</td>\n",
       "      <td>1353</td>\n",
       "      <td>11</td>\n",
       "      <td>2581</td>\n",
       "    </tr>\n",
       "    <tr>\n",
       "      <th>CEL</th>\n",
       "      <td>0</td>\n",
       "      <td>0</td>\n",
       "      <td>0</td>\n",
       "      <td>0</td>\n",
       "      <td>0</td>\n",
       "      <td>0</td>\n",
       "      <td>0</td>\n",
       "      <td>0</td>\n",
       "      <td>0</td>\n",
       "      <td>0</td>\n",
       "      <td>...</td>\n",
       "      <td>0</td>\n",
       "      <td>40</td>\n",
       "      <td>45</td>\n",
       "      <td>0</td>\n",
       "      <td>106</td>\n",
       "      <td>2</td>\n",
       "      <td>10</td>\n",
       "      <td>1466</td>\n",
       "      <td>0</td>\n",
       "      <td>1935</td>\n",
       "    </tr>\n",
       "    <tr>\n",
       "      <th>DVP</th>\n",
       "      <td>0</td>\n",
       "      <td>0</td>\n",
       "      <td>0</td>\n",
       "      <td>0</td>\n",
       "      <td>0</td>\n",
       "      <td>8</td>\n",
       "      <td>0</td>\n",
       "      <td>0</td>\n",
       "      <td>0</td>\n",
       "      <td>0</td>\n",
       "      <td>...</td>\n",
       "      <td>0</td>\n",
       "      <td>0</td>\n",
       "      <td>0</td>\n",
       "      <td>1</td>\n",
       "      <td>1</td>\n",
       "      <td>0</td>\n",
       "      <td>0</td>\n",
       "      <td>785</td>\n",
       "      <td>77</td>\n",
       "      <td>1193</td>\n",
       "    </tr>\n",
       "    <tr>\n",
       "      <th>ENZ</th>\n",
       "      <td>0</td>\n",
       "      <td>0</td>\n",
       "      <td>0</td>\n",
       "      <td>1</td>\n",
       "      <td>1</td>\n",
       "      <td>1</td>\n",
       "      <td>0</td>\n",
       "      <td>1</td>\n",
       "      <td>3</td>\n",
       "      <td>0</td>\n",
       "      <td>...</td>\n",
       "      <td>0</td>\n",
       "      <td>0</td>\n",
       "      <td>51</td>\n",
       "      <td>0</td>\n",
       "      <td>347</td>\n",
       "      <td>0</td>\n",
       "      <td>0</td>\n",
       "      <td>6631</td>\n",
       "      <td>6</td>\n",
       "      <td>7025</td>\n",
       "    </tr>\n",
       "    <tr>\n",
       "      <th>FDB</th>\n",
       "      <td>0</td>\n",
       "      <td>0</td>\n",
       "      <td>0</td>\n",
       "      <td>0</td>\n",
       "      <td>0</td>\n",
       "      <td>0</td>\n",
       "      <td>1</td>\n",
       "      <td>0</td>\n",
       "      <td>1</td>\n",
       "      <td>0</td>\n",
       "      <td>...</td>\n",
       "      <td>0</td>\n",
       "      <td>0</td>\n",
       "      <td>0</td>\n",
       "      <td>0</td>\n",
       "      <td>0</td>\n",
       "      <td>0</td>\n",
       "      <td>0</td>\n",
       "      <td>610</td>\n",
       "      <td>1</td>\n",
       "      <td>521</td>\n",
       "    </tr>\n",
       "    <tr>\n",
       "      <th>GEN</th>\n",
       "      <td>0</td>\n",
       "      <td>0</td>\n",
       "      <td>0</td>\n",
       "      <td>0</td>\n",
       "      <td>0</td>\n",
       "      <td>0</td>\n",
       "      <td>0</td>\n",
       "      <td>0</td>\n",
       "      <td>0</td>\n",
       "      <td>0</td>\n",
       "      <td>...</td>\n",
       "      <td>0</td>\n",
       "      <td>0</td>\n",
       "      <td>0</td>\n",
       "      <td>0</td>\n",
       "      <td>10</td>\n",
       "      <td>0</td>\n",
       "      <td>0</td>\n",
       "      <td>8983</td>\n",
       "      <td>10</td>\n",
       "      <td>11337</td>\n",
       "    </tr>\n",
       "    <tr>\n",
       "      <th>GRO</th>\n",
       "      <td>4</td>\n",
       "      <td>0</td>\n",
       "      <td>0</td>\n",
       "      <td>0</td>\n",
       "      <td>0</td>\n",
       "      <td>0</td>\n",
       "      <td>0</td>\n",
       "      <td>0</td>\n",
       "      <td>0</td>\n",
       "      <td>0</td>\n",
       "      <td>...</td>\n",
       "      <td>1</td>\n",
       "      <td>36</td>\n",
       "      <td>10</td>\n",
       "      <td>140</td>\n",
       "      <td>44</td>\n",
       "      <td>0</td>\n",
       "      <td>0</td>\n",
       "      <td>2457</td>\n",
       "      <td>605</td>\n",
       "      <td>5395</td>\n",
       "    </tr>\n",
       "    <tr>\n",
       "      <th>HIS</th>\n",
       "      <td>0</td>\n",
       "      <td>0</td>\n",
       "      <td>0</td>\n",
       "      <td>0</td>\n",
       "      <td>0</td>\n",
       "      <td>0</td>\n",
       "      <td>0</td>\n",
       "      <td>0</td>\n",
       "      <td>0</td>\n",
       "      <td>0</td>\n",
       "      <td>...</td>\n",
       "      <td>0</td>\n",
       "      <td>0</td>\n",
       "      <td>0</td>\n",
       "      <td>0</td>\n",
       "      <td>0</td>\n",
       "      <td>0</td>\n",
       "      <td>0</td>\n",
       "      <td>839</td>\n",
       "      <td>9</td>\n",
       "      <td>925</td>\n",
       "    </tr>\n",
       "    <tr>\n",
       "      <th>HRM</th>\n",
       "      <td>0</td>\n",
       "      <td>0</td>\n",
       "      <td>0</td>\n",
       "      <td>0</td>\n",
       "      <td>0</td>\n",
       "      <td>0</td>\n",
       "      <td>0</td>\n",
       "      <td>0</td>\n",
       "      <td>0</td>\n",
       "      <td>0</td>\n",
       "      <td>...</td>\n",
       "      <td>0</td>\n",
       "      <td>0</td>\n",
       "      <td>0</td>\n",
       "      <td>0</td>\n",
       "      <td>0</td>\n",
       "      <td>0</td>\n",
       "      <td>0</td>\n",
       "      <td>1451</td>\n",
       "      <td>0</td>\n",
       "      <td>2328</td>\n",
       "    </tr>\n",
       "    <tr>\n",
       "      <th>IMM</th>\n",
       "      <td>0</td>\n",
       "      <td>0</td>\n",
       "      <td>0</td>\n",
       "      <td>0</td>\n",
       "      <td>0</td>\n",
       "      <td>0</td>\n",
       "      <td>0</td>\n",
       "      <td>0</td>\n",
       "      <td>0</td>\n",
       "      <td>0</td>\n",
       "      <td>...</td>\n",
       "      <td>0</td>\n",
       "      <td>0</td>\n",
       "      <td>0</td>\n",
       "      <td>0</td>\n",
       "      <td>0</td>\n",
       "      <td>0</td>\n",
       "      <td>0</td>\n",
       "      <td>185</td>\n",
       "      <td>0</td>\n",
       "      <td>278</td>\n",
       "    </tr>\n",
       "    <tr>\n",
       "      <th>INJ</th>\n",
       "      <td>0</td>\n",
       "      <td>0</td>\n",
       "      <td>0</td>\n",
       "      <td>0</td>\n",
       "      <td>0</td>\n",
       "      <td>0</td>\n",
       "      <td>0</td>\n",
       "      <td>0</td>\n",
       "      <td>0</td>\n",
       "      <td>0</td>\n",
       "      <td>...</td>\n",
       "      <td>0</td>\n",
       "      <td>0</td>\n",
       "      <td>0</td>\n",
       "      <td>0</td>\n",
       "      <td>0</td>\n",
       "      <td>0</td>\n",
       "      <td>0</td>\n",
       "      <td>114</td>\n",
       "      <td>0</td>\n",
       "      <td>205</td>\n",
       "    </tr>\n",
       "    <tr>\n",
       "      <th>ITX</th>\n",
       "      <td>0</td>\n",
       "      <td>0</td>\n",
       "      <td>0</td>\n",
       "      <td>0</td>\n",
       "      <td>0</td>\n",
       "      <td>0</td>\n",
       "      <td>0</td>\n",
       "      <td>0</td>\n",
       "      <td>0</td>\n",
       "      <td>0</td>\n",
       "      <td>...</td>\n",
       "      <td>0</td>\n",
       "      <td>0</td>\n",
       "      <td>0</td>\n",
       "      <td>0</td>\n",
       "      <td>1</td>\n",
       "      <td>0</td>\n",
       "      <td>32</td>\n",
       "      <td>54</td>\n",
       "      <td>2</td>\n",
       "      <td>57</td>\n",
       "    </tr>\n",
       "    <tr>\n",
       "      <th>MLT</th>\n",
       "      <td>0</td>\n",
       "      <td>0</td>\n",
       "      <td>0</td>\n",
       "      <td>0</td>\n",
       "      <td>0</td>\n",
       "      <td>0</td>\n",
       "      <td>0</td>\n",
       "      <td>0</td>\n",
       "      <td>0</td>\n",
       "      <td>0</td>\n",
       "      <td>...</td>\n",
       "      <td>0</td>\n",
       "      <td>0</td>\n",
       "      <td>5</td>\n",
       "      <td>15</td>\n",
       "      <td>11</td>\n",
       "      <td>0</td>\n",
       "      <td>1</td>\n",
       "      <td>136</td>\n",
       "      <td>79</td>\n",
       "      <td>240</td>\n",
       "    </tr>\n",
       "    <tr>\n",
       "      <th>MOR</th>\n",
       "      <td>0</td>\n",
       "      <td>0</td>\n",
       "      <td>0</td>\n",
       "      <td>0</td>\n",
       "      <td>0</td>\n",
       "      <td>0</td>\n",
       "      <td>0</td>\n",
       "      <td>0</td>\n",
       "      <td>0</td>\n",
       "      <td>0</td>\n",
       "      <td>...</td>\n",
       "      <td>0</td>\n",
       "      <td>0</td>\n",
       "      <td>0</td>\n",
       "      <td>0</td>\n",
       "      <td>0</td>\n",
       "      <td>0</td>\n",
       "      <td>64889</td>\n",
       "      <td>0</td>\n",
       "      <td>0</td>\n",
       "      <td>0</td>\n",
       "    </tr>\n",
       "    <tr>\n",
       "      <th>MPH</th>\n",
       "      <td>0</td>\n",
       "      <td>0</td>\n",
       "      <td>0</td>\n",
       "      <td>0</td>\n",
       "      <td>0</td>\n",
       "      <td>8</td>\n",
       "      <td>0</td>\n",
       "      <td>0</td>\n",
       "      <td>0</td>\n",
       "      <td>0</td>\n",
       "      <td>...</td>\n",
       "      <td>0</td>\n",
       "      <td>0</td>\n",
       "      <td>0</td>\n",
       "      <td>0</td>\n",
       "      <td>0</td>\n",
       "      <td>0</td>\n",
       "      <td>0</td>\n",
       "      <td>1260</td>\n",
       "      <td>4</td>\n",
       "      <td>3062</td>\n",
       "    </tr>\n",
       "    <tr>\n",
       "      <th>PHY</th>\n",
       "      <td>0</td>\n",
       "      <td>0</td>\n",
       "      <td>0</td>\n",
       "      <td>0</td>\n",
       "      <td>0</td>\n",
       "      <td>0</td>\n",
       "      <td>0</td>\n",
       "      <td>0</td>\n",
       "      <td>0</td>\n",
       "      <td>0</td>\n",
       "      <td>...</td>\n",
       "      <td>0</td>\n",
       "      <td>0</td>\n",
       "      <td>2</td>\n",
       "      <td>0</td>\n",
       "      <td>17</td>\n",
       "      <td>0</td>\n",
       "      <td>0</td>\n",
       "      <td>1579</td>\n",
       "      <td>44</td>\n",
       "      <td>2087</td>\n",
       "    </tr>\n",
       "    <tr>\n",
       "      <th>POP</th>\n",
       "      <td>0</td>\n",
       "      <td>0</td>\n",
       "      <td>0</td>\n",
       "      <td>0</td>\n",
       "      <td>0</td>\n",
       "      <td>0</td>\n",
       "      <td>0</td>\n",
       "      <td>0</td>\n",
       "      <td>0</td>\n",
       "      <td>0</td>\n",
       "      <td>...</td>\n",
       "      <td>0</td>\n",
       "      <td>23</td>\n",
       "      <td>0</td>\n",
       "      <td>32</td>\n",
       "      <td>32</td>\n",
       "      <td>0</td>\n",
       "      <td>0</td>\n",
       "      <td>188</td>\n",
       "      <td>62</td>\n",
       "      <td>241</td>\n",
       "    </tr>\n",
       "    <tr>\n",
       "      <th>REP</th>\n",
       "      <td>0</td>\n",
       "      <td>0</td>\n",
       "      <td>0</td>\n",
       "      <td>0</td>\n",
       "      <td>0</td>\n",
       "      <td>0</td>\n",
       "      <td>0</td>\n",
       "      <td>0</td>\n",
       "      <td>0</td>\n",
       "      <td>0</td>\n",
       "      <td>...</td>\n",
       "      <td>0</td>\n",
       "      <td>0</td>\n",
       "      <td>0</td>\n",
       "      <td>0</td>\n",
       "      <td>0</td>\n",
       "      <td>0</td>\n",
       "      <td>0</td>\n",
       "      <td>1397</td>\n",
       "      <td>21</td>\n",
       "      <td>2263</td>\n",
       "    </tr>\n",
       "  </tbody>\n",
       "</table>\n",
       "<p>21 rows × 38 columns</p>\n",
       "</div>"
      ],
      "text/plain": [
       "endpoint  ATCN   BCF  BCFD  BMC02.5  BMC04  BMC05  BMC06  BMC08  BMC10  BMC11  \\\n",
       "effect                                                                          \n",
       "ACC          0  9144   256        0      0      0      0      0      0      0   \n",
       "AVO          0     0     0        0      0      0      0      0      0      0   \n",
       "BCM          0     0     0        0      0      0      0      0      0      0   \n",
       "BEH          0     0     0        0      0      0      0      0      1      1   \n",
       "CEL          0     0     0        0      0      0      0      0      0      0   \n",
       "DVP          0     0     0        0      0      8      0      0      0      0   \n",
       "ENZ          0     0     0        1      1      1      0      1      3      0   \n",
       "FDB          0     0     0        0      0      0      1      0      1      0   \n",
       "GEN          0     0     0        0      0      0      0      0      0      0   \n",
       "GRO          4     0     0        0      0      0      0      0      0      0   \n",
       "HIS          0     0     0        0      0      0      0      0      0      0   \n",
       "HRM          0     0     0        0      0      0      0      0      0      0   \n",
       "IMM          0     0     0        0      0      0      0      0      0      0   \n",
       "INJ          0     0     0        0      0      0      0      0      0      0   \n",
       "ITX          0     0     0        0      0      0      0      0      0      0   \n",
       "MLT          0     0     0        0      0      0      0      0      0      0   \n",
       "MOR          0     0     0        0      0      0      0      0      0      0   \n",
       "MPH          0     0     0        0      0      8      0      0      0      0   \n",
       "PHY          0     0     0        0      0      0      0      0      0      0   \n",
       "POP          0     0     0        0      0      0      0      0      0      0   \n",
       "REP          0     0     0        0      0      0      0      0      0      0   \n",
       "\n",
       "endpoint  ...  IC01  IC10  IC20  IC25  IC50  IC80   LC50  LOEC  MATC   NOEC  \n",
       "effect    ...                                                                \n",
       "ACC       ...     0     0     0     0     0     0      0  2169     5   1562  \n",
       "AVO       ...     0     0     0     0    10     0      0    75     3    104  \n",
       "BCM       ...     0     4    39     0    27     0      1  8816     6  10427  \n",
       "BEH       ...     0     0     0     0     0     0      1  1353    11   2581  \n",
       "CEL       ...     0    40    45     0   106     2     10  1466     0   1935  \n",
       "DVP       ...     0     0     0     1     1     0      0   785    77   1193  \n",
       "ENZ       ...     0     0    51     0   347     0      0  6631     6   7025  \n",
       "FDB       ...     0     0     0     0     0     0      0   610     1    521  \n",
       "GEN       ...     0     0     0     0    10     0      0  8983    10  11337  \n",
       "GRO       ...     1    36    10   140    44     0      0  2457   605   5395  \n",
       "HIS       ...     0     0     0     0     0     0      0   839     9    925  \n",
       "HRM       ...     0     0     0     0     0     0      0  1451     0   2328  \n",
       "IMM       ...     0     0     0     0     0     0      0   185     0    278  \n",
       "INJ       ...     0     0     0     0     0     0      0   114     0    205  \n",
       "ITX       ...     0     0     0     0     1     0     32    54     2     57  \n",
       "MLT       ...     0     0     5    15    11     0      1   136    79    240  \n",
       "MOR       ...     0     0     0     0     0     0  64889     0     0      0  \n",
       "MPH       ...     0     0     0     0     0     0      0  1260     4   3062  \n",
       "PHY       ...     0     0     2     0    17     0      0  1579    44   2087  \n",
       "POP       ...     0    23     0    32    32     0      0   188    62    241  \n",
       "REP       ...     0     0     0     0     0     0      0  1397    21   2263  \n",
       "\n",
       "[21 rows x 38 columns]"
      ]
     },
     "execution_count": 8,
     "metadata": {},
     "output_type": "execute_result"
    }
   ],
   "source": [
    "ct = pd.crosstab(filtered_results.effect, filtered_results.endpoint)\n",
    "ct"
   ]
  },
  {
   "cell_type": "code",
   "execution_count": 14,
   "metadata": {
    "collapsed": false
   },
   "outputs": [
    {
     "name": "stderr",
     "output_type": "stream",
     "text": [
      "100%|██████████| 38/38 [00:10<00:00,  3.55it/s]\n"
     ]
    }
   ],
   "source": [
    "ct = pd.crosstab(filtered_results.effect, filtered_results.endpoint)\n",
    "dfr = pd.DataFrame()\n",
    "for j in tqdm(ct.columns):\n",
    "    for i in ct.index:\n",
    "        if (ct.loc[i,j] >200):\n",
    "            pp = filtered_results[filtered_results.endpoint == j]\n",
    "            pp = pp[pp.effect == i]\n",
    "            best_db = select_impute_features(pp,keep_columns)\n",
    "            x = np.array(repeated_experiments(best_db).conc1_mean.unique())\n",
    "            try:\n",
    "                final_db = repeated_experiments(best_db)\n",
    "                final_db.loc[:,'endpoint'] = j\n",
    "                final_db.loc[:,'effect'] =i\n",
    "                dfr = pd.concat([dfr, final_db])\n",
    "            except:\n",
    "                continue"
   ]
  },
  {
   "cell_type": "code",
   "execution_count": 16,
   "metadata": {
    "collapsed": true
   },
   "outputs": [
    {
     "name": "stdout",
     "output_type": "stream",
     "text": [
      "Finding atom number...\n",
      "Finding number of alone atoms...\n",
      "Finding single bounds number...\n",
      "Finding double bounds number...\n",
      "Finding triple bounds number...\n",
      "Finding ring number...\n",
      "Finding mol number...\n",
      "Finding morgan density...\n",
      "Finding partition number (LogP)...\n",
      "Finding number of OH group...\n",
      "Finding melting point...\n",
      "Finding water solubility...\n"
     ]
    }
   ],
   "source": [
    "mol=False\n",
    "final = dfr.merge(cas_property,on='test_cas',how='left')\n",
    "final = final[~final.smiles.isnull()]\n",
    "final = final[~final.pubchem2d.isnull()]\n",
    "chem_feat = process_chemicals(final)\n",
    "if mol == True:\n",
    "    chem_feat['conc1_mean'] = chem_feat['conc1_mean'] *chem_feat['mol_weight']\n",
    "chem_feat = chem_feat.drop(['melting_unit','mol_weight'],axis=1)"
   ]
  },
  {
   "cell_type": "code",
   "execution_count": null,
   "metadata": {
    "collapsed": true
   },
   "outputs": [],
   "source": [
    "ct = pd.crosstab(chem_feat.effect, chem_feat.endpoint)\n",
    "df = pd.DataFrame()\n",
    "df_chem = chem_feat.copy()\n",
    "old_df = 1\n",
    "while not (df.equals(old_df)):\n",
    "    old_df = df\n",
    "    df = pd.DataFrame()\n",
    "    for i in tqdm(ct.index):\n",
    "        for j in ct.columns:\n",
    "            if (ct.loc[i,j] >200):\n",
    "                [ths_1,ths_2,ths_3,ths_4] = np.quantile(df_chem[df_chem.effect == i].conc1_mean, [.2,.4,.6,.8])\n",
    "                pp = df_chem[df_chem.endpoint == j]\n",
    "                pp = pp[pp.effect == i]\n",
    "                x = np.array(pp.conc1_mean.unique())\n",
    "                try:\n",
    "                    if  np.any(x <= ths_1) & np.any((ths_1 <x) & (x<= ths_2)) & np.any((ths_2 < x) & (x<=ths_3))& np.any((ths_3 < x)&(x <=ths_4))&np.any(x > ths_4):\n",
    "                            pp.loc[:,'endpoint'] = j\n",
    "                            pp.loc[:,'effect'] = i\n",
    "                            df = pd.concat([df, pp])\n",
    "                except:\n",
    "                    continue\n",
    "            else:\n",
    "                continue\n",
    "    df_chem = df\n",
    "    print(df.equals(old_df))"
   ]
  },
  {
   "cell_type": "code",
   "execution_count": null,
   "metadata": {},
   "outputs": [],
   "source": [
    "ct"
   ]
  },
  {
   "cell_type": "markdown",
   "metadata": {},
   "source": [
    "<font size =3>final save"
   ]
  },
  {
   "cell_type": "code",
   "execution_count": null,
   "metadata": {
    "collapsed": true
   },
   "outputs": [],
   "source": [
    "df.to_csv('data/LC50/lc50_processed_df_itself.csv')"
   ]
  },
  {
   "cell_type": "markdown",
   "metadata": {},
   "source": [
    "<font size =3>select effect"
   ]
  },
  {
   "cell_type": "code",
   "execution_count": 19,
   "metadata": {
    "collapsed": false
   },
   "outputs": [
    {
     "data": {
      "text/plain": [
       "array(['ACC', 'BCM', 'BEH', 'ENZ', 'GEN', 'MOR'], dtype=object)"
      ]
     },
     "execution_count": 19,
     "metadata": {},
     "output_type": "execute_result"
    }
   ],
   "source": [
    "df.effect.unique()"
   ]
  },
  {
   "cell_type": "code",
   "execution_count": null,
   "metadata": {
    "collapsed": true
   },
   "outputs": [],
   "source": [
    "# repeated for each effect\n",
    "dfr = df[df.effect == 'GEN']\n",
    "\n",
    "dfr.to_csv('data/LC50/lc50_processed_df_gen.csv')"
   ]
  },
  {
   "cell_type": "markdown",
   "metadata": {
    "collapsed": true
   },
   "source": [
    "find datafusion datasets for specific fish species"
   ]
  },
  {
   "cell_type": "code",
   "execution_count": 2,
   "metadata": {
    "collapsed": false
   },
   "outputs": [],
   "source": [
    "import pandas as pd\n",
    "lc50 = pd.read_csv('data/LC50/lc50_processed.csv').drop(columns = 'Unnamed: 0')   \n",
    "fish = pd.read_csv('data/LC50/lc50_processed_rainbow.csv').drop(columns = 'Unnamed: 0')   \n",
    "# fish2 = pd.read_csv('data/LC50/lc50_processed_fathead.csv').drop(columns = 'Unnamed: 0')  "
   ]
  },
  {
   "cell_type": "code",
   "execution_count": 74,
   "metadata": {
    "collapsed": false
   },
   "outputs": [],
   "source": [
    "nofish = pd.concat([lc50, fish,fish2]).drop_duplicates(keep=False)\n",
    "nofish.to_csv('data/LC50/lc50_processed_norainbowfathead.csv')"
   ]
  }
 ],
 "metadata": {
  "anaconda-cloud": {},
  "kernelspec": {
   "display_name": "Python [conda env:rdkit-test]",
   "language": "python",
   "name": "conda-env-rdkit-test-py"
  },
  "language_info": {
   "codemirror_mode": {
    "name": "ipython",
    "version": 3
   },
   "file_extension": ".py",
   "mimetype": "text/x-python",
   "name": "python",
   "nbconvert_exporter": "python",
   "pygments_lexer": "ipython3",
   "version": "3.6.2"
  }
 },
 "nbformat": 4,
 "nbformat_minor": 1
}